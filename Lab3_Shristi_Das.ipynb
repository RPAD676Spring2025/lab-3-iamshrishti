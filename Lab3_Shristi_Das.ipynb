{
  "cells": [
    {
      "cell_type": "markdown",
      "id": "514236ee",
      "metadata": {
        "id": "514236ee"
      },
      "source": [
        "#**Lab 3: Analyzing Data in Python**\n",
        "\n",
        "# RPAD 676: Data Science for the Public Good\n",
        "\n",
        "## Author: Shristi Das\n",
        "## Date: 26th February 2025\n",
        "\n",
        "## Instructions\n",
        "In this assignment, you will conduct your own analysis using the provided dataset. Follow the prompts in each section and write the necessary Python code to complete the tasks.\n",
        "\n",
        "**Tasks:**\n",
        "- Load and explore the dataset\n",
        "- Perform basic data cleaning (handling missing values, etc.)\n",
        "- Generate descriptive statistics\n",
        "- Create at least one meaningful visualization\n",
        "- Summarize key insights from your analysis\n",
        "\n",
        "Remember to document your thought process in markdown cells throughout the notebook."
      ]
    },
    {
      "cell_type": "code",
      "execution_count": 2,
      "id": "bbc0bcae",
      "metadata": {
        "colab": {
          "base_uri": "https://localhost:8080/",
          "height": 417
        },
        "id": "bbc0bcae",
        "outputId": "88afc62e-6518-41c1-c99d-0f8701e38ed4"
      },
      "outputs": [
        {
          "output_type": "execute_result",
          "data": {
            "text/plain": [
              "   user_id  TimeTaken  UserSatisfaction  Age  DisabilityStatus  \\\n",
              "0        2        919                 4   38                 0   \n",
              "1        9        759                10   78                 0   \n",
              "2       13        853                 8   45                 0   \n",
              "3       15        503                 4   66                 0   \n",
              "4       25        857                 7   69                 0   \n",
              "\n",
              "   DigitalLiteracy  Gender EmploymentStatus EducationLevel InternetAccess  \\\n",
              "0                5  Female          Retired   Some College      Broadband   \n",
              "1                5    Male         Employed    High School      Broadband   \n",
              "2                3  Female       Unemployed       Bachelor      Broadband   \n",
              "3                3    Male          Student       Bachelor      Broadband   \n",
              "4                1  Female         Employed   Some College    Mobile Data   \n",
              "\n",
              "   ErrorRates  RequestedHelp  SatisfactionOtherServices  WillingnessFutureUse  \\\n",
              "0           1              0                          6                    10   \n",
              "1           1              0                          3                     8   \n",
              "2           2              0                          6                    10   \n",
              "3           1              0                          2                     1   \n",
              "4           4              0                          3                     1   \n",
              "\n",
              "   ReceivesSocialServices                                   Agency  \n",
              "0                       0  Department of Health and Human Services  \n",
              "1                       0              Department of Public Safety  \n",
              "2                       0                  Department of Education  \n",
              "3                       0              Department of Public Safety  \n",
              "4                       0                  Department of Education  "
            ],
            "text/html": [
              "\n",
              "  <div id=\"df-e4383fdc-ccbd-455d-9693-b3a4977f13f2\" class=\"colab-df-container\">\n",
              "    <div>\n",
              "<style scoped>\n",
              "    .dataframe tbody tr th:only-of-type {\n",
              "        vertical-align: middle;\n",
              "    }\n",
              "\n",
              "    .dataframe tbody tr th {\n",
              "        vertical-align: top;\n",
              "    }\n",
              "\n",
              "    .dataframe thead th {\n",
              "        text-align: right;\n",
              "    }\n",
              "</style>\n",
              "<table border=\"1\" class=\"dataframe\">\n",
              "  <thead>\n",
              "    <tr style=\"text-align: right;\">\n",
              "      <th></th>\n",
              "      <th>user_id</th>\n",
              "      <th>TimeTaken</th>\n",
              "      <th>UserSatisfaction</th>\n",
              "      <th>Age</th>\n",
              "      <th>DisabilityStatus</th>\n",
              "      <th>DigitalLiteracy</th>\n",
              "      <th>Gender</th>\n",
              "      <th>EmploymentStatus</th>\n",
              "      <th>EducationLevel</th>\n",
              "      <th>InternetAccess</th>\n",
              "      <th>ErrorRates</th>\n",
              "      <th>RequestedHelp</th>\n",
              "      <th>SatisfactionOtherServices</th>\n",
              "      <th>WillingnessFutureUse</th>\n",
              "      <th>ReceivesSocialServices</th>\n",
              "      <th>Agency</th>\n",
              "    </tr>\n",
              "  </thead>\n",
              "  <tbody>\n",
              "    <tr>\n",
              "      <th>0</th>\n",
              "      <td>2</td>\n",
              "      <td>919</td>\n",
              "      <td>4</td>\n",
              "      <td>38</td>\n",
              "      <td>0</td>\n",
              "      <td>5</td>\n",
              "      <td>Female</td>\n",
              "      <td>Retired</td>\n",
              "      <td>Some College</td>\n",
              "      <td>Broadband</td>\n",
              "      <td>1</td>\n",
              "      <td>0</td>\n",
              "      <td>6</td>\n",
              "      <td>10</td>\n",
              "      <td>0</td>\n",
              "      <td>Department of Health and Human Services</td>\n",
              "    </tr>\n",
              "    <tr>\n",
              "      <th>1</th>\n",
              "      <td>9</td>\n",
              "      <td>759</td>\n",
              "      <td>10</td>\n",
              "      <td>78</td>\n",
              "      <td>0</td>\n",
              "      <td>5</td>\n",
              "      <td>Male</td>\n",
              "      <td>Employed</td>\n",
              "      <td>High School</td>\n",
              "      <td>Broadband</td>\n",
              "      <td>1</td>\n",
              "      <td>0</td>\n",
              "      <td>3</td>\n",
              "      <td>8</td>\n",
              "      <td>0</td>\n",
              "      <td>Department of Public Safety</td>\n",
              "    </tr>\n",
              "    <tr>\n",
              "      <th>2</th>\n",
              "      <td>13</td>\n",
              "      <td>853</td>\n",
              "      <td>8</td>\n",
              "      <td>45</td>\n",
              "      <td>0</td>\n",
              "      <td>3</td>\n",
              "      <td>Female</td>\n",
              "      <td>Unemployed</td>\n",
              "      <td>Bachelor</td>\n",
              "      <td>Broadband</td>\n",
              "      <td>2</td>\n",
              "      <td>0</td>\n",
              "      <td>6</td>\n",
              "      <td>10</td>\n",
              "      <td>0</td>\n",
              "      <td>Department of Education</td>\n",
              "    </tr>\n",
              "    <tr>\n",
              "      <th>3</th>\n",
              "      <td>15</td>\n",
              "      <td>503</td>\n",
              "      <td>4</td>\n",
              "      <td>66</td>\n",
              "      <td>0</td>\n",
              "      <td>3</td>\n",
              "      <td>Male</td>\n",
              "      <td>Student</td>\n",
              "      <td>Bachelor</td>\n",
              "      <td>Broadband</td>\n",
              "      <td>1</td>\n",
              "      <td>0</td>\n",
              "      <td>2</td>\n",
              "      <td>1</td>\n",
              "      <td>0</td>\n",
              "      <td>Department of Public Safety</td>\n",
              "    </tr>\n",
              "    <tr>\n",
              "      <th>4</th>\n",
              "      <td>25</td>\n",
              "      <td>857</td>\n",
              "      <td>7</td>\n",
              "      <td>69</td>\n",
              "      <td>0</td>\n",
              "      <td>1</td>\n",
              "      <td>Female</td>\n",
              "      <td>Employed</td>\n",
              "      <td>Some College</td>\n",
              "      <td>Mobile Data</td>\n",
              "      <td>4</td>\n",
              "      <td>0</td>\n",
              "      <td>3</td>\n",
              "      <td>1</td>\n",
              "      <td>0</td>\n",
              "      <td>Department of Education</td>\n",
              "    </tr>\n",
              "  </tbody>\n",
              "</table>\n",
              "</div>\n",
              "    <div class=\"colab-df-buttons\">\n",
              "\n",
              "  <div class=\"colab-df-container\">\n",
              "    <button class=\"colab-df-convert\" onclick=\"convertToInteractive('df-e4383fdc-ccbd-455d-9693-b3a4977f13f2')\"\n",
              "            title=\"Convert this dataframe to an interactive table.\"\n",
              "            style=\"display:none;\">\n",
              "\n",
              "  <svg xmlns=\"http://www.w3.org/2000/svg\" height=\"24px\" viewBox=\"0 -960 960 960\">\n",
              "    <path d=\"M120-120v-720h720v720H120Zm60-500h600v-160H180v160Zm220 220h160v-160H400v160Zm0 220h160v-160H400v160ZM180-400h160v-160H180v160Zm440 0h160v-160H620v160ZM180-180h160v-160H180v160Zm440 0h160v-160H620v160Z\"/>\n",
              "  </svg>\n",
              "    </button>\n",
              "\n",
              "  <style>\n",
              "    .colab-df-container {\n",
              "      display:flex;\n",
              "      gap: 12px;\n",
              "    }\n",
              "\n",
              "    .colab-df-convert {\n",
              "      background-color: #E8F0FE;\n",
              "      border: none;\n",
              "      border-radius: 50%;\n",
              "      cursor: pointer;\n",
              "      display: none;\n",
              "      fill: #1967D2;\n",
              "      height: 32px;\n",
              "      padding: 0 0 0 0;\n",
              "      width: 32px;\n",
              "    }\n",
              "\n",
              "    .colab-df-convert:hover {\n",
              "      background-color: #E2EBFA;\n",
              "      box-shadow: 0px 1px 2px rgba(60, 64, 67, 0.3), 0px 1px 3px 1px rgba(60, 64, 67, 0.15);\n",
              "      fill: #174EA6;\n",
              "    }\n",
              "\n",
              "    .colab-df-buttons div {\n",
              "      margin-bottom: 4px;\n",
              "    }\n",
              "\n",
              "    [theme=dark] .colab-df-convert {\n",
              "      background-color: #3B4455;\n",
              "      fill: #D2E3FC;\n",
              "    }\n",
              "\n",
              "    [theme=dark] .colab-df-convert:hover {\n",
              "      background-color: #434B5C;\n",
              "      box-shadow: 0px 1px 3px 1px rgba(0, 0, 0, 0.15);\n",
              "      filter: drop-shadow(0px 1px 2px rgba(0, 0, 0, 0.3));\n",
              "      fill: #FFFFFF;\n",
              "    }\n",
              "  </style>\n",
              "\n",
              "    <script>\n",
              "      const buttonEl =\n",
              "        document.querySelector('#df-e4383fdc-ccbd-455d-9693-b3a4977f13f2 button.colab-df-convert');\n",
              "      buttonEl.style.display =\n",
              "        google.colab.kernel.accessAllowed ? 'block' : 'none';\n",
              "\n",
              "      async function convertToInteractive(key) {\n",
              "        const element = document.querySelector('#df-e4383fdc-ccbd-455d-9693-b3a4977f13f2');\n",
              "        const dataTable =\n",
              "          await google.colab.kernel.invokeFunction('convertToInteractive',\n",
              "                                                    [key], {});\n",
              "        if (!dataTable) return;\n",
              "\n",
              "        const docLinkHtml = 'Like what you see? Visit the ' +\n",
              "          '<a target=\"_blank\" href=https://colab.research.google.com/notebooks/data_table.ipynb>data table notebook</a>'\n",
              "          + ' to learn more about interactive tables.';\n",
              "        element.innerHTML = '';\n",
              "        dataTable['output_type'] = 'display_data';\n",
              "        await google.colab.output.renderOutput(dataTable, element);\n",
              "        const docLink = document.createElement('div');\n",
              "        docLink.innerHTML = docLinkHtml;\n",
              "        element.appendChild(docLink);\n",
              "      }\n",
              "    </script>\n",
              "  </div>\n",
              "\n",
              "\n",
              "<div id=\"df-2ec1e21f-1310-4952-a289-07518083cba3\">\n",
              "  <button class=\"colab-df-quickchart\" onclick=\"quickchart('df-2ec1e21f-1310-4952-a289-07518083cba3')\"\n",
              "            title=\"Suggest charts\"\n",
              "            style=\"display:none;\">\n",
              "\n",
              "<svg xmlns=\"http://www.w3.org/2000/svg\" height=\"24px\"viewBox=\"0 0 24 24\"\n",
              "     width=\"24px\">\n",
              "    <g>\n",
              "        <path d=\"M19 3H5c-1.1 0-2 .9-2 2v14c0 1.1.9 2 2 2h14c1.1 0 2-.9 2-2V5c0-1.1-.9-2-2-2zM9 17H7v-7h2v7zm4 0h-2V7h2v10zm4 0h-2v-4h2v4z\"/>\n",
              "    </g>\n",
              "</svg>\n",
              "  </button>\n",
              "\n",
              "<style>\n",
              "  .colab-df-quickchart {\n",
              "      --bg-color: #E8F0FE;\n",
              "      --fill-color: #1967D2;\n",
              "      --hover-bg-color: #E2EBFA;\n",
              "      --hover-fill-color: #174EA6;\n",
              "      --disabled-fill-color: #AAA;\n",
              "      --disabled-bg-color: #DDD;\n",
              "  }\n",
              "\n",
              "  [theme=dark] .colab-df-quickchart {\n",
              "      --bg-color: #3B4455;\n",
              "      --fill-color: #D2E3FC;\n",
              "      --hover-bg-color: #434B5C;\n",
              "      --hover-fill-color: #FFFFFF;\n",
              "      --disabled-bg-color: #3B4455;\n",
              "      --disabled-fill-color: #666;\n",
              "  }\n",
              "\n",
              "  .colab-df-quickchart {\n",
              "    background-color: var(--bg-color);\n",
              "    border: none;\n",
              "    border-radius: 50%;\n",
              "    cursor: pointer;\n",
              "    display: none;\n",
              "    fill: var(--fill-color);\n",
              "    height: 32px;\n",
              "    padding: 0;\n",
              "    width: 32px;\n",
              "  }\n",
              "\n",
              "  .colab-df-quickchart:hover {\n",
              "    background-color: var(--hover-bg-color);\n",
              "    box-shadow: 0 1px 2px rgba(60, 64, 67, 0.3), 0 1px 3px 1px rgba(60, 64, 67, 0.15);\n",
              "    fill: var(--button-hover-fill-color);\n",
              "  }\n",
              "\n",
              "  .colab-df-quickchart-complete:disabled,\n",
              "  .colab-df-quickchart-complete:disabled:hover {\n",
              "    background-color: var(--disabled-bg-color);\n",
              "    fill: var(--disabled-fill-color);\n",
              "    box-shadow: none;\n",
              "  }\n",
              "\n",
              "  .colab-df-spinner {\n",
              "    border: 2px solid var(--fill-color);\n",
              "    border-color: transparent;\n",
              "    border-bottom-color: var(--fill-color);\n",
              "    animation:\n",
              "      spin 1s steps(1) infinite;\n",
              "  }\n",
              "\n",
              "  @keyframes spin {\n",
              "    0% {\n",
              "      border-color: transparent;\n",
              "      border-bottom-color: var(--fill-color);\n",
              "      border-left-color: var(--fill-color);\n",
              "    }\n",
              "    20% {\n",
              "      border-color: transparent;\n",
              "      border-left-color: var(--fill-color);\n",
              "      border-top-color: var(--fill-color);\n",
              "    }\n",
              "    30% {\n",
              "      border-color: transparent;\n",
              "      border-left-color: var(--fill-color);\n",
              "      border-top-color: var(--fill-color);\n",
              "      border-right-color: var(--fill-color);\n",
              "    }\n",
              "    40% {\n",
              "      border-color: transparent;\n",
              "      border-right-color: var(--fill-color);\n",
              "      border-top-color: var(--fill-color);\n",
              "    }\n",
              "    60% {\n",
              "      border-color: transparent;\n",
              "      border-right-color: var(--fill-color);\n",
              "    }\n",
              "    80% {\n",
              "      border-color: transparent;\n",
              "      border-right-color: var(--fill-color);\n",
              "      border-bottom-color: var(--fill-color);\n",
              "    }\n",
              "    90% {\n",
              "      border-color: transparent;\n",
              "      border-bottom-color: var(--fill-color);\n",
              "    }\n",
              "  }\n",
              "</style>\n",
              "\n",
              "  <script>\n",
              "    async function quickchart(key) {\n",
              "      const quickchartButtonEl =\n",
              "        document.querySelector('#' + key + ' button');\n",
              "      quickchartButtonEl.disabled = true;  // To prevent multiple clicks.\n",
              "      quickchartButtonEl.classList.add('colab-df-spinner');\n",
              "      try {\n",
              "        const charts = await google.colab.kernel.invokeFunction(\n",
              "            'suggestCharts', [key], {});\n",
              "      } catch (error) {\n",
              "        console.error('Error during call to suggestCharts:', error);\n",
              "      }\n",
              "      quickchartButtonEl.classList.remove('colab-df-spinner');\n",
              "      quickchartButtonEl.classList.add('colab-df-quickchart-complete');\n",
              "    }\n",
              "    (() => {\n",
              "      let quickchartButtonEl =\n",
              "        document.querySelector('#df-2ec1e21f-1310-4952-a289-07518083cba3 button');\n",
              "      quickchartButtonEl.style.display =\n",
              "        google.colab.kernel.accessAllowed ? 'block' : 'none';\n",
              "    })();\n",
              "  </script>\n",
              "</div>\n",
              "\n",
              "    </div>\n",
              "  </div>\n"
            ],
            "application/vnd.google.colaboratory.intrinsic+json": {
              "type": "dataframe",
              "variable_name": "data",
              "summary": "{\n  \"name\": \"data\",\n  \"rows\": 1000,\n  \"fields\": [\n    {\n      \"column\": \"user_id\",\n      \"properties\": {\n        \"dtype\": \"number\",\n        \"std\": 288,\n        \"min\": 1,\n        \"max\": 1000,\n        \"num_unique_values\": 1000,\n        \"samples\": [\n          381,\n          957,\n          971\n        ],\n        \"semantic_type\": \"\",\n        \"description\": \"\"\n      }\n    },\n    {\n      \"column\": \"TimeTaken\",\n      \"properties\": {\n        \"dtype\": \"number\",\n        \"std\": 344,\n        \"min\": 0,\n        \"max\": 2136,\n        \"num_unique_values\": 699,\n        \"samples\": [\n          1546,\n          917,\n          472\n        ],\n        \"semantic_type\": \"\",\n        \"description\": \"\"\n      }\n    },\n    {\n      \"column\": \"UserSatisfaction\",\n      \"properties\": {\n        \"dtype\": \"number\",\n        \"std\": 2,\n        \"min\": 1,\n        \"max\": 10,\n        \"num_unique_values\": 10,\n        \"samples\": [\n          9,\n          10,\n          5\n        ],\n        \"semantic_type\": \"\",\n        \"description\": \"\"\n      }\n    },\n    {\n      \"column\": \"Age\",\n      \"properties\": {\n        \"dtype\": \"number\",\n        \"std\": 17,\n        \"min\": 18,\n        \"max\": 79,\n        \"num_unique_values\": 62,\n        \"samples\": [\n          28,\n          67,\n          38\n        ],\n        \"semantic_type\": \"\",\n        \"description\": \"\"\n      }\n    },\n    {\n      \"column\": \"DisabilityStatus\",\n      \"properties\": {\n        \"dtype\": \"number\",\n        \"std\": 0,\n        \"min\": 0,\n        \"max\": 1,\n        \"num_unique_values\": 2,\n        \"samples\": [\n          1,\n          0\n        ],\n        \"semantic_type\": \"\",\n        \"description\": \"\"\n      }\n    },\n    {\n      \"column\": \"DigitalLiteracy\",\n      \"properties\": {\n        \"dtype\": \"number\",\n        \"std\": 1,\n        \"min\": 1,\n        \"max\": 5,\n        \"num_unique_values\": 5,\n        \"samples\": [\n          3,\n          2\n        ],\n        \"semantic_type\": \"\",\n        \"description\": \"\"\n      }\n    },\n    {\n      \"column\": \"Gender\",\n      \"properties\": {\n        \"dtype\": \"category\",\n        \"num_unique_values\": 3,\n        \"samples\": [\n          \"Female\",\n          \"Male\"\n        ],\n        \"semantic_type\": \"\",\n        \"description\": \"\"\n      }\n    },\n    {\n      \"column\": \"EmploymentStatus\",\n      \"properties\": {\n        \"dtype\": \"category\",\n        \"num_unique_values\": 4,\n        \"samples\": [\n          \"Employed\",\n          \"Student\"\n        ],\n        \"semantic_type\": \"\",\n        \"description\": \"\"\n      }\n    },\n    {\n      \"column\": \"EducationLevel\",\n      \"properties\": {\n        \"dtype\": \"category\",\n        \"num_unique_values\": 4,\n        \"samples\": [\n          \"High School\",\n          \"Graduate\"\n        ],\n        \"semantic_type\": \"\",\n        \"description\": \"\"\n      }\n    },\n    {\n      \"column\": \"InternetAccess\",\n      \"properties\": {\n        \"dtype\": \"category\",\n        \"num_unique_values\": 3,\n        \"samples\": [\n          \"Broadband\",\n          \"Mobile Data\"\n        ],\n        \"semantic_type\": \"\",\n        \"description\": \"\"\n      }\n    },\n    {\n      \"column\": \"ErrorRates\",\n      \"properties\": {\n        \"dtype\": \"number\",\n        \"std\": 2,\n        \"min\": 0,\n        \"max\": 22,\n        \"num_unique_values\": 15,\n        \"samples\": [\n          18,\n          8\n        ],\n        \"semantic_type\": \"\",\n        \"description\": \"\"\n      }\n    },\n    {\n      \"column\": \"RequestedHelp\",\n      \"properties\": {\n        \"dtype\": \"number\",\n        \"std\": 0,\n        \"min\": 0,\n        \"max\": 1,\n        \"num_unique_values\": 2,\n        \"samples\": [\n          1,\n          0\n        ],\n        \"semantic_type\": \"\",\n        \"description\": \"\"\n      }\n    },\n    {\n      \"column\": \"SatisfactionOtherServices\",\n      \"properties\": {\n        \"dtype\": \"number\",\n        \"std\": 2,\n        \"min\": 1,\n        \"max\": 10,\n        \"num_unique_values\": 10,\n        \"samples\": [\n          4,\n          3\n        ],\n        \"semantic_type\": \"\",\n        \"description\": \"\"\n      }\n    },\n    {\n      \"column\": \"WillingnessFutureUse\",\n      \"properties\": {\n        \"dtype\": \"number\",\n        \"std\": 3,\n        \"min\": 1,\n        \"max\": 10,\n        \"num_unique_values\": 10,\n        \"samples\": [\n          2,\n          8\n        ],\n        \"semantic_type\": \"\",\n        \"description\": \"\"\n      }\n    },\n    {\n      \"column\": \"ReceivesSocialServices\",\n      \"properties\": {\n        \"dtype\": \"number\",\n        \"std\": 0,\n        \"min\": 0,\n        \"max\": 1,\n        \"num_unique_values\": 2,\n        \"samples\": [\n          1,\n          0\n        ],\n        \"semantic_type\": \"\",\n        \"description\": \"\"\n      }\n    },\n    {\n      \"column\": \"Agency\",\n      \"properties\": {\n        \"dtype\": \"category\",\n        \"num_unique_values\": 4,\n        \"samples\": [\n          \"Department of Public Safety\",\n          \"Department of Housing\"\n        ],\n        \"semantic_type\": \"\",\n        \"description\": \"\"\n      }\n    }\n  ]\n}"
            }
          },
          "metadata": {},
          "execution_count": 2
        }
      ],
      "source": [
        "# Load necessary libraries\n",
        "import pandas as pd\n",
        "import matplotlib.pyplot as plt\n",
        "import seaborn as sns\n",
        "\n",
        "# Load the dataset (replace with actual file path)\n",
        "data = pd.read_csv('digital_services_data.csv')\n",
        "\n",
        "# Display the first few rows\n",
        "data.head()"
      ]
    },
    {
      "cell_type": "markdown",
      "id": "58068f12",
      "metadata": {
        "id": "58068f12"
      },
      "source": [
        "## Descriptive Statistics\n",
        "\n",
        "Compute and interpret basic statistics for the dataset:\n",
        "- Mean, median, mode\n",
        "- Standard deviation, min, max\n",
        "- Any other relevant metrics\n",
        "\n",
        "_Write your code below:_"
      ]
    },
    {
      "cell_type": "code",
      "execution_count": 3,
      "id": "1f067573",
      "metadata": {
        "id": "1f067573",
        "colab": {
          "base_uri": "https://localhost:8080/"
        },
        "outputId": "aae10eee-964c-4e3d-e637-8639c8ac34fc"
      },
      "outputs": [
        {
          "output_type": "stream",
          "name": "stdout",
          "text": [
            "\n",
            "Mean of TimeTaken: 1059.03\n"
          ]
        }
      ],
      "source": [
        "# MEAN\n",
        "time_taken = 'TimeTaken'\n",
        "mean_value_time_taken = data[time_taken].mean().round(2)\n",
        "print(f\"\\nMean of {time_taken}: {mean_value_time_taken}\")"
      ]
    },
    {
      "cell_type": "code",
      "source": [
        "# MEDIAN\n",
        "time_taken = 'TimeTaken'\n",
        "median_value_time_taken = round(data[time_taken].median(), 2)\n",
        "print(f\"\\nMedian of {time_taken}: {median_value_time_taken}\")"
      ],
      "metadata": {
        "colab": {
          "base_uri": "https://localhost:8080/"
        },
        "id": "95t5jj8a-xWv",
        "outputId": "0fe65b72-0c9b-4138-98e5-489da27ff637"
      },
      "id": "95t5jj8a-xWv",
      "execution_count": 4,
      "outputs": [
        {
          "output_type": "stream",
          "name": "stdout",
          "text": [
            "\n",
            "Median of TimeTaken: 1064.0\n"
          ]
        }
      ]
    },
    {
      "cell_type": "code",
      "source": [
        "# MODE\n",
        "time_taken = 'TimeTaken'\n",
        "mode_value_time_taken = data[time_taken].mode().iloc[0]\n",
        "print(f\"\\nMode of {time_taken}: {mode_value_time_taken}\")"
      ],
      "metadata": {
        "colab": {
          "base_uri": "https://localhost:8080/"
        },
        "id": "gQirSlHxBr1S",
        "outputId": "a822d1e1-614a-44aa-9969-f7cf491070c0"
      },
      "id": "gQirSlHxBr1S",
      "execution_count": 5,
      "outputs": [
        {
          "output_type": "stream",
          "name": "stdout",
          "text": [
            "\n",
            "Mode of TimeTaken: 753\n"
          ]
        }
      ]
    },
    {
      "cell_type": "code",
      "source": [
        "# STANDARD DEVIATION\n",
        "user_sat = 'UserSatisfaction'\n",
        "std_dev_satisfaction = round(data[user_sat].std(), 2)\n",
        "print(f\"\\nStandard Deviation of {user_sat}: {std_dev_satisfaction}\")\n"
      ],
      "metadata": {
        "colab": {
          "base_uri": "https://localhost:8080/"
        },
        "id": "KnYCnDoRDT9k",
        "outputId": "841d0a87-363d-499c-dc3a-3311ceacf05f"
      },
      "id": "KnYCnDoRDT9k",
      "execution_count": 6,
      "outputs": [
        {
          "output_type": "stream",
          "name": "stdout",
          "text": [
            "\n",
            "Standard Deviation of UserSatisfaction: 2.9\n"
          ]
        }
      ]
    },
    {
      "cell_type": "code",
      "source": [
        "# MINIMUM\n",
        "age = 'Age'\n",
        "min_value_age = data[age].min()\n",
        "print(f\"\\nMinimum of {age}: {min_value_age}\")"
      ],
      "metadata": {
        "colab": {
          "base_uri": "https://localhost:8080/"
        },
        "id": "2jriyfoeC4MI",
        "outputId": "de8157ef-06ef-4420-f8e4-38f1511e8f74"
      },
      "id": "2jriyfoeC4MI",
      "execution_count": 7,
      "outputs": [
        {
          "output_type": "stream",
          "name": "stdout",
          "text": [
            "\n",
            "Minimum of Age: 18\n"
          ]
        }
      ]
    },
    {
      "cell_type": "code",
      "source": [
        "# MAXIMUM\n",
        "age = 'Age'\n",
        "max_value_age = data[age].max()\n",
        "print(f\"\\nMaximum of {age}: {max_value_age}\")"
      ],
      "metadata": {
        "colab": {
          "base_uri": "https://localhost:8080/"
        },
        "id": "hkzgFyeiCM8C",
        "outputId": "b0b6e500-9abf-409f-bf40-c5fe1a5c733a"
      },
      "id": "hkzgFyeiCM8C",
      "execution_count": 8,
      "outputs": [
        {
          "output_type": "stream",
          "name": "stdout",
          "text": [
            "\n",
            "Maximum of Age: 79\n"
          ]
        }
      ]
    },
    {
      "cell_type": "code",
      "source": [
        "# PERCENTAGE OF REPEAT USERS\n",
        "repeat_users_percentage = round((data['WillingnessFutureUse'] >= 8).mean() * 100, 2)\n",
        "print(f\"\\nPercentage of Users Willing to Use the Service Again: {repeat_users_percentage}%\")\n",
        "#This tells how many users rate their willingness to return as 8 or above (on a scale of 10)."
      ],
      "metadata": {
        "colab": {
          "base_uri": "https://localhost:8080/"
        },
        "id": "ERe0-FgoFFCY",
        "outputId": "31fddf0a-9aa1-418f-929d-dca60b8a12a4"
      },
      "id": "ERe0-FgoFFCY",
      "execution_count": 9,
      "outputs": [
        {
          "output_type": "stream",
          "name": "stdout",
          "text": [
            "\n",
            "Percentage of Users Willing to Use the Service Again: 33.6%\n"
          ]
        }
      ]
    },
    {
      "cell_type": "markdown",
      "id": "0b62a4a0",
      "metadata": {
        "id": "0b62a4a0"
      },
      "source": [
        "## Data Visualization\n",
        "\n",
        "Create at least one visualization that highlights an interesting aspect of the dataset. You may use bar plots, histograms, scatter plots, or other relevant charts.\n",
        "\n",
        "_Write your code below:_"
      ]
    },
    {
      "cell_type": "code",
      "execution_count": 13,
      "id": "9ef437d3",
      "metadata": {
        "id": "9ef437d3",
        "colab": {
          "base_uri": "https://localhost:8080/",
          "height": 619
        },
        "outputId": "e1c7ba8f-e872-4b34-8c16-987171c38eab"
      },
      "outputs": [
        {
          "output_type": "display_data",
          "data": {
            "text/plain": [
              "<Figure size 1000x600 with 1 Axes>"
            ],
            "image/png": "[encoded data removed]"
          },
          "metadata": {}
        }
      ],
      "source": [
        "# Average User Satisfaction by Internet Access Type\n",
        "# This bar chart shows the average user satisfaction by internet access type.\n",
        "import matplotlib.pyplot as plt\n",
        "\n",
        "avg_satisfaction_by_internet = data.groupby('InternetAccess')['UserSatisfaction'].mean().round(2)\n",
        "\n",
        "plt.figure(figsize=(10, 6))\n",
        "plt.ylim(0, 10)\n",
        "avg_satisfaction_by_internet.plot(kind='bar', color='green', edgecolor='black')\n",
        "plt.xlabel('Internet Access Type')\n",
        "plt.ylabel('Average User Satisfaction')\n",
        "plt.title('Average User Satisfaction by Internet Access Type')\n",
        "plt.xticks(rotation=45)\n",
        "plt.grid(axis='y', linestyle='--', alpha=0.7)\n",
        "\n",
        "plt.show()\n"
      ]
    },
    {
      "cell_type": "code",
      "source": [
        "# Percentage of Users Willing to Use the Service Again (Pie Chart)\n",
        "willingness_counts = data['WillingnessFutureUse'].apply(lambda x: 'Likely' if x >= 8 else 'Unlikely').value_counts()\n",
        "\n",
        "plt.figure(figsize=(8, 8))\n",
        "plt.pie(willingness_counts, labels=willingness_counts.index, autopct='%1.1f%%', colors=['lightblue', 'yellow'], startangle=140)\n",
        "plt.title('User Willingness to Use the Service Again')\n",
        "\n",
        "plt.show()\n"
      ],
      "metadata": {
        "colab": {
          "base_uri": "https://localhost:8080/",
          "height": 675
        },
        "id": "8NNJapUdG3c9",
        "outputId": "8ef0ffb8-2cda-4667-af35-0a8272f4eb8b"
      },
      "id": "8NNJapUdG3c9",
      "execution_count": 14,
      "outputs": [
        {
          "output_type": "display_data",
          "data": {
            "text/plain": [
              "<Figure size 800x800 with 1 Axes>"
            ],
            "image/png": "[encoded data removed]"
          },
          "metadata": {}
        }
      ]
    },
    {
      "cell_type": "markdown",
      "source": [
        "## Inferential Statistics\n",
        "\n",
        "### T-Tests\n",
        "Compare means across two groups using the t-test. Calculate the means, conduct the t-test, and summarize the findings and what they say about the relationship between the variables.\n",
        "\n",
        "_Write your code below:_"
      ],
      "metadata": {
        "id": "ihn5rwm4a10-"
      },
      "id": "ihn5rwm4a10-"
    },
    {
      "cell_type": "code",
      "source": [
        "import statsmodels.api as sm\n",
        "import statsmodels.formula.api as smf\n",
        "from statsmodels.stats.multicomp import pairwise_tukeyhsd"
      ],
      "metadata": {
        "id": "9tXkELBkaucG"
      },
      "id": "9tXkELBkaucG",
      "execution_count": null,
      "outputs": []
    },
    {
      "cell_type": "code",
      "source": [
        "categorical_variable = 'Gender'\n",
        "continuous_variable = 'UserSatisfaction'\n",
        "\n",
        "# Extract data for the two groups\n",
        "group1 = data[data[categorical_variable] == 'Male'][continuous_variable]\n",
        "group2 = data[data[categorical_variable] == 'Female'][continuous_variable]\n",
        "\n",
        "# Calculate means for both groups\n",
        "mean_group1 = round(group1.mean(), 2)\n",
        "mean_group2 = round(group2.mean(), 2)\n",
        "\n",
        "# Conduct independent T-Test\n",
        "t_stat, p_value = ttest_ind(group1, group2, equal_var=False)\n",
        "\n",
        "# Display results\n",
        "print(f\"\\nMean {continuous_variable} (Male): {mean_group1}\")\n",
        "print(f\"Mean {continuous_variable} (Female): {mean_group2}\")\n",
        "print(f\"T-Statistic: {t_stat:.4f}, P-Value: {p_value:.6f}\")\n",
        "\n",
        "# Interpretation\n",
        "alpha = 0.05\n",
        "print(f\"\\nThe p-value is {p_value:.2f} hence: \")\n",
        "if p_value < alpha:\n",
        "    print(f\"The difference in {continuous_variable} between males and females is statistically significant (p < 0.05).\")\n",
        "else:\n",
        "    print(f\"No significant difference in {continuous_variable} between males and females (p >= 0.05).\")\n"
      ],
      "metadata": {
        "colab": {
          "base_uri": "https://localhost:8080/"
        },
        "id": "-kB0grNeQ4Tn",
        "outputId": "3999632a-721d-4b22-944b-e260d256127b"
      },
      "id": "-kB0grNeQ4Tn",
      "execution_count": null,
      "outputs": [
        {
          "output_type": "stream",
          "name": "stdout",
          "text": [
            "\n",
            "Mean TimeTaken (Male): nan\n",
            "Mean TimeTaken (Female): nan\n",
            "T-Statistic: nan, P-Value: nan\n",
            "\n",
            "The p-value is nan hence: \n",
            "No significant difference in TimeTaken between males and females (p >= 0.05).\n"
          ]
        }
      ]
    },
    {
      "cell_type": "code",
      "source": [
        "categorical_variable = 'DigitalLiteracy'\n",
        "continuous_variable = 'TimeTaken'\n",
        "\n",
        "# Calculate means for both groups\n",
        "mean_group1 = round(group1.mean(), 2)\n",
        "mean_group2 = round(group2.mean(), 2)\n",
        "\n",
        "# Conduct independent T-Test\n",
        "t_stat, p_value = ttest_ind(group1, group2, equal_var=False)\n",
        "\n",
        "# Display results\n",
        "print(f\"\\nMean {continuous_variable} (High Digital Literacy): {mean_group1}\")\n",
        "print(f\"Mean {continuous_variable} (Low Digital Literacy): {mean_group2}\")\n",
        "print(f\"T-Statistic: {t_stat:.4f}, P-Value: {p_value:.6f}\")\n",
        "\n",
        "# Interpretation\n",
        "alpha = 0.05\n",
        "print(f\"\\nThe p-value is {p_value:.2f} hence: \")\n",
        "if p_value < alpha:\n",
        "    print(f\"The difference in {continuous_variable} between High and Low Digital Literacy groups is statistically significant (p < 0.05).\")\n",
        "else:\n",
        "    print(f\"No significant difference in {continuous_variable} based on Digital Literacy (p >= 0.05).\")\n"
      ],
      "metadata": {
        "colab": {
          "base_uri": "https://localhost:8080/"
        },
        "id": "hQHlpc7bfOtc",
        "outputId": "d12b36fe-45d1-405a-e3bb-c203afaa7629"
      },
      "id": "hQHlpc7bfOtc",
      "execution_count": null,
      "outputs": [
        {
          "output_type": "stream",
          "name": "stdout",
          "text": [
            "\n",
            "Mean TimeTaken (High Digital Literacy): 999.9\n",
            "Mean TimeTaken (Low Digital Literacy): 1155.49\n",
            "T-Statistic: -7.1905, P-Value: 0.000000\n",
            "\n",
            "The p-value is 0.00 hence: \n",
            "The difference in TimeTaken between High and Low Digital Literacy groups is statistically significant (p < 0.05).\n"
          ]
        }
      ]
    },
    {
      "cell_type": "markdown",
      "source": [
        "### ANOVA\n",
        "Compare means across two groups using the t-test. Calculate the means, conduct the t-test, and summarize the findings and what they say about the relationship between the variables.\n",
        "\n",
        "_Write your code below:_"
      ],
      "metadata": {
        "id": "tYWakQc7bc2F"
      },
      "id": "tYWakQc7bc2F"
    },
    {
      "cell_type": "code",
      "source": [
        "\n",
        "outcome_variable = 'TimeTaken'\n",
        "categorical_variable = 'EmploymentStatus'\n",
        "\n",
        "# Calculate means for both groups\n",
        "specific_grouped_means = filtered_data.groupby(categorical_variable)[outcome_variable].mean().round(2)\n",
        "\n",
        "print(f\"\\nMean of {outcome_variable} grouped by {categorical_variable}:\")\n",
        "print(specific_grouped_means)\n",
        "\n",
        "# Extract data for the two groups\n",
        "group1 = filtered_data[filtered_data[categorical_variable] == 'Employed'][outcome_variable]\n",
        "group2 = filtered_data[filtered_data[categorical_variable] == 'Unemployed'][outcome_variable]\n",
        "\n",
        "# Conduct T-Test\n",
        "t_stat, p_value = ttest_ind(group1, group2, equal_var=False)\n",
        "\n",
        "# Display results\n",
        "print(f\"\\nT-Test: Comparing {outcome_variable} across {categorical_variable} groups\")\n",
        "print(f\"T-statistic: {t_stat:.4f}, P-value: {p_value:.4f}\")\n",
        "\n",
        "# Interpretation\n",
        "alpha = 0.05\n",
        "if p_value < alpha:\n",
        "    print(f\"\\nThe difference in {outcome_variable} between Employed and Unemployed users is statistically significant (p < 0.05).\")\n",
        "else:\n",
        "    print(f\"\\nNo significant difference in {outcome_variable} between Employed and Unemployed users (p >= 0.05).\")\n"
      ],
      "metadata": {
        "id": "5u5FkUHFbhJK",
        "colab": {
          "base_uri": "https://localhost:8080/"
        },
        "outputId": "c905c076-fae7-48d6-975d-6761b78f0e10"
      },
      "id": "5u5FkUHFbhJK",
      "execution_count": null,
      "outputs": [
        {
          "output_type": "stream",
          "name": "stdout",
          "text": [
            "\n",
            "Mean of TimeTaken grouped by EmploymentStatus:\n",
            "EmploymentStatus\n",
            "Employed      1078.29\n",
            "Unemployed    1036.97\n",
            "Name: TimeTaken, dtype: float64\n",
            "\n",
            "T-Test: Comparing TimeTaken across EmploymentStatus groups\n",
            "T-statistic: 1.3487, P-value: 0.1787\n",
            "\n",
            "No significant difference in TimeTaken between Employed and Unemployed users (p >= 0.05).\n"
          ]
        }
      ]
    },
    {
      "cell_type": "markdown",
      "id": "393ad963",
      "metadata": {
        "id": "393ad963"
      },
      "source": [
        "## Key Insights\n",
        "\n",
        "Summarize your findings in a short paragraph. What patterns or trends did you observe? Were there any surprises in the data? How might these insights be useful?\n",
        "\n",
        "_Write your response below:_\n",
        "\n",
        "The analysis reveals that digital literacy significantly impacts the time taken to complete tasks, with individuals who have higher digital literacy finishing significantly faster (999.9 sec) compared to those with lower literacy (1155.49 sec, p < 0.05). This suggests that familiarity with digital tools and platforms plays a crucial role in navigating online services efficiently.  \n",
        "\n",
        "In contrast, employment status does not appear to have a significant effect on task completion time (p = 0.1787). Although employed individuals took slightly longer on average (1078.29 sec vs. 1036.97 sec), the difference was not statistically meaningful. This finding indicates that employment status alone does not determine efficiency in using digital services, and other factors, such as education or access to technology, may be more influential.  \n",
        "\n",
        "These results highlight the importance of digital literacy initiatives to bridge the gap in online service accessibility. Rather than focusing on employment status, efforts to enhance digital skills could be a more effective strategy for improving user efficiency and overall engagement with digital platforms."
      ]
    }
  ],
  "metadata": {
    "colab": {
      "provenance": []
    },
    "language_info": {
      "name": "python"
    },
    "kernelspec": {
      "name": "python3",
      "display_name": "Python 3"
    }
  },
  "nbformat": 4,
  "nbformat_minor": 5
}